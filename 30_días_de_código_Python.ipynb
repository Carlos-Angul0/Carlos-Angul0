{
  "cells": [
    {
      "cell_type": "markdown",
      "metadata": {
        "id": "view-in-github",
        "colab_type": "text"
      },
      "source": [
        "<a href=\"https://colab.research.google.com/github/Carlos-Angul0/Carlos-Angul0/blob/main/30_d%C3%ADas_de_c%C3%B3digo_Python.ipynb\" target=\"_parent\"><img src=\"https://colab.research.google.com/assets/colab-badge.svg\" alt=\"Open In Colab\"/></a>"
      ]
    },
    {
      "cell_type": "markdown",
      "source": [
        "#***30 días de código Python***\n",
        "###**Ejercicio 2**###\n",
        "---\n",
        "**Objetivo**\n",
        "\n",
        "En este desafío, trabajarás con operadores aritméticos.\n",
        "\n",
        "**Tarea**\n",
        "\n",
        "Dado el precio de la comida (costo base de una comida), el porcentaje de propina (el porcentaje del precio de la comida que se agrega como propina) y el porcentaje de impuestos (el porcentaje del precio de la comida que se agrega como impuesto) para una comida, busque e imprima el costo total de la comida . Redondea el resultado al entero más cercano.\n",
        "\n",
        "**Ejemplo**\n",
        "\n",
        "\n",
        "\n",
        "Una propina de 15% * 100 = 15, y los impuestos son 8% * 100 = 8. Imprime el valor y regreso de la función.\n",
        "\n",
        "**Descripción de la función**\n",
        "\n",
        "solve tiene los siguientes parámetros:\n",
        "\n",
        "int **meal_cost**: el costo de los alimentos antes de propinas e impuestos\n",
        "\n",
        "int **tip_percent**: el porcentaje de propina\n",
        "\n",
        "int **tax_percent**: el porcentaje de impuestos\n",
        "\n",
        "Devoluciones (return) La función no devuelve nada. \n",
        "\n",
        "Imprime el valor calculado, redondeado al entero más cercano.\n",
        "\n",
        "Nota: asegúrese de usar valores precisos para sus cálculos, o puede terminar con un resultado redondeado incorrectamente.\n",
        "\n",
        "**Formato de entrada**\n",
        "\n",
        "Existen líneas de entrada numérica:\n",
        "\n",
        "La primera línea tiene un doble,(el costo de la comida antes de impuestos y propina).\n",
        "La segunda línea tiene un número entero,(El porcentaje desiendo añadido como propina).\n",
        "La tercera línea tiene un número entero,(El porcentaje desiendo agregado como impuesto).\n",
        "\n",
        "Entrada de muestra\n",
        "\n",
        "12.00\n",
        "20\n",
        "8\n",
        "Salida de muestra\n",
        "\n",
        "15\n",
        "Explicación\n",
        "\n",
        "Dado:\n",
        ",,\n",
        "\n",
        "Cálculos:\n",
        "\n",
        "\n",
        "\n",
        "\n",
        "redondeamosal entero más cercano e imprimir el resultado,."
      ],
      "metadata": {
        "id": "XFPyiMW_9zRc"
      }
    },
    {
      "cell_type": "code",
      "source": [
        "#!/bin/python3\n",
        "\n",
        "import math\n",
        "import os\n",
        "import random\n",
        "import re\n",
        "import sys\n",
        "\n"
      ],
      "metadata": {
        "id": "Uul2l2VF2QLA"
      },
      "execution_count": null,
      "outputs": []
    },
    {
      "cell_type": "code",
      "source": [
        "#\n",
        "# Complete the 'solve' function below.\n",
        "#\n",
        "# The function accepts following parameters:\n",
        "#  1. DOUBLE meal_cost\n",
        "#  2. INTEGER tip_percent\n",
        "#  3. INTEGER tax_percent\n",
        "#\n",
        "\n",
        "def solve(meal_cost, tip_percent, tax_percent):\n",
        "    # Write your code here\n",
        "    tip_percent= meal_cost/100*tip_percent\n",
        "    tax_percent = meal_cost/100*tax_percent\n",
        "    total=meal_cost+tip_percent+tax_percent\n",
        "    return round(total)\n",
        "\n",
        "if __name__ == '__main__':\n",
        "    meal_cost = float(input().strip())\n",
        "\n",
        "    tip_percent = int(input().strip())\n",
        "\n",
        "    tax_percent = int(input().strip())\n",
        "\n",
        "    print(solve(meal_cost, tip_percent, tax_percent))\n"
      ],
      "metadata": {
        "id": "nvbyI9Ag2bfX",
        "outputId": "ec777fbd-7b34-4398-bb45-7c14c8535eaa",
        "colab": {
          "base_uri": "https://localhost:8080/"
        }
      },
      "execution_count": null,
      "outputs": [
        {
          "output_type": "stream",
          "name": "stdout",
          "text": [
            "10.25\n",
            "17\n",
            "5\n",
            "13\n"
          ]
        }
      ]
    },
    {
      "cell_type": "code",
      "source": [
        "print(solve(12,20,8))"
      ],
      "metadata": {
        "id": "jclgjJ2v34DQ",
        "outputId": "625da74e-9131-4f50-bae2-57b02d4ba4bb",
        "colab": {
          "base_uri": "https://localhost:8080/"
        }
      },
      "execution_count": null,
      "outputs": [
        {
          "output_type": "stream",
          "name": "stdout",
          "text": [
            "15.36\n"
          ]
        }
      ]
    }
  ],
  "metadata": {
    "colab": {
      "collapsed_sections": [],
      "name": "30 días de código Python",
      "provenance": [],
      "include_colab_link": true
    },
    "kernelspec": {
      "display_name": "Python 3",
      "name": "python3"
    }
  },
  "nbformat": 4,
  "nbformat_minor": 0
}